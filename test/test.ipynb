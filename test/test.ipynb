{
 "cells": [
  {
   "cell_type": "code",
   "execution_count": null,
   "metadata": {},
   "outputs": [],
   "source": [
    "import os\n",
    "import sys\n",
    "from pathlib import Path\n",
    "sys.path.append(str(Path(os.getcwd()).parent))"
   ]
  },
  {
   "cell_type": "code",
   "execution_count": null,
   "metadata": {},
   "outputs": [],
   "source": [
    "from app.config import API_KEYS, SLACK\n",
    "from app.src.api import SlackAPI, OpenaiAPI\n",
    "\n",
    "_SLACK_API_KEY = API_KEYS[\"slack\"]\n",
    "_OPENAI_API_KEY = API_KEYS[\"openai\"]\n",
    "_SLACK_CHANNEL = SLACK[\"channel\"]"
   ]
  },
  {
   "attachments": {},
   "cell_type": "markdown",
   "metadata": {},
   "source": [
    "- slack, openai API 인스턴스"
   ]
  },
  {
   "cell_type": "code",
   "execution_count": null,
   "metadata": {},
   "outputs": [],
   "source": [
    "slack_api = SlackAPI(token=_SLACK_API_KEY)\n",
    "openai_api = OpenaiAPI(api_key=_OPENAI_API_KEY)"
   ]
  },
  {
   "attachments": {},
   "cell_type": "markdown",
   "metadata": {},
   "source": [
    "- slack test"
   ]
  },
  {
   "cell_type": "code",
   "execution_count": null,
   "metadata": {},
   "outputs": [],
   "source": [
    "text = \"Hello, World!\"\n",
    "chnnel_id = slack_api.get_channel_id(_SLACK_CHANNEL)\n",
    "result = slack_api.post_message(chnnel_id, text)"
   ]
  },
  {
   "attachments": {},
   "cell_type": "markdown",
   "metadata": {},
   "source": [
    "- openai gpt test"
   ]
  },
  {
   "cell_type": "code",
   "execution_count": null,
   "metadata": {},
   "outputs": [],
   "source": [
    "prompt = \"What is GPT4?\"\n",
    "result = openai_api.ChatGPT(prompt)\n",
    "print(result)"
   ]
  }
 ],
 "metadata": {
  "kernelspec": {
   "display_name": "venv",
   "language": "python",
   "name": "python3"
  },
  "language_info": {
   "codemirror_mode": {
    "name": "ipython",
    "version": 3
   },
   "file_extension": ".py",
   "mimetype": "text/x-python",
   "name": "python",
   "nbconvert_exporter": "python",
   "pygments_lexer": "ipython3",
   "version": "3.9.12"
  },
  "orig_nbformat": 4,
  "vscode": {
   "interpreter": {
    "hash": "77a6f51806bfe9ea9c32c7ec6eef496603aa72646db0d848a95833bbee292e53"
   }
  }
 },
 "nbformat": 4,
 "nbformat_minor": 2
}
